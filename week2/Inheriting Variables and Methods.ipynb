{
 "cells": [
  {
   "cell_type": "markdown",
   "metadata": {},
   "source": [
    "# Inheriting Variables and Methods"
   ]
  },
  {
   "cell_type": "markdown",
   "metadata": {},
   "source": [
    "Here is an example. Say we want to define a class Cat that inherits from Pet. Assume we have the Pet class that we defined earlier.\n",
    "\n",
    "We want the Cat type to be exactly the same as Pet, except we want the sound cats to start out knowing “meow” instead of “mrrp”, and we want the Cat class to have its own special method called chasing_rats, which only Cat s have.\n",
    "\n",
    "For reference, here’s the original Tamagotchi code\n"
   ]
  },
  {
   "cell_type": "code",
   "execution_count": 1,
   "metadata": {},
   "outputs": [],
   "source": [
    "from random import randrange\n",
    "\n",
    "# Here's the original Pet class\n",
    "class Pet():\n",
    "    boredom_decrement = 4\n",
    "    hunger_decrement = 6\n",
    "    boredom_threshold = 5\n",
    "    hunger_threshold = 10\n",
    "    sounds = ['Mrrp']\n",
    "    def __init__(self, name = \"Kitty\"):\n",
    "        self.name = name\n",
    "        self.hunger = randrange(self.hunger_threshold)\n",
    "        self.boredom = randrange(self.boredom_threshold)\n",
    "        self.sounds = self.sounds[:]  # copy the class attribute, so that when we make changes to it, we won't affect the other Pets in the class\n",
    "\n",
    "    def clock_tick(self):\n",
    "        self.boredom += 1\n",
    "        self.hunger += 1\n",
    "\n",
    "    def mood(self):\n",
    "        if self.hunger <= self.hunger_threshold and self.boredom <= self.boredom_threshold:\n",
    "            return \"happy\"\n",
    "        elif self.hunger > self.hunger_threshold:\n",
    "            return \"hungry\"\n",
    "        else:\n",
    "            return \"bored\"\n",
    "\n",
    "    def __str__(self):\n",
    "        state = \"     I'm \" + self.name + \". \"\n",
    "        state += \" I feel \" + self.mood() + \". \"\n",
    "        # state += \"Hunger %d Boredom %d Words %s\" % (self.hunger, self.boredom, self.sounds)\n",
    "        return state\n",
    "\n",
    "    def hi(self):\n",
    "        print(self.sounds[randrange(len(self.sounds))])\n",
    "        self.reduce_boredom()\n",
    "\n",
    "    def teach(self, word):\n",
    "        self.sounds.append(word)\n",
    "        self.reduce_boredom()\n",
    "\n",
    "    def feed(self):\n",
    "        self.reduce_hunger()\n",
    "\n",
    "    def reduce_hunger(self):\n",
    "        self.hunger = max(0, self.hunger - self.hunger_decrement)\n",
    "\n",
    "    def reduce_boredom(self):\n",
    "        self.boredom = max(0, self.boredom - self.boredom_decrement)\n",
    "\n",
    "# Here's the new definition of class Cat, a subclass of Pet.\n",
    "class Cat(Pet): # the class name that the new class inherits from goes in the parentheses, like so.\n",
    "    sounds = ['Meow']\n",
    "\n",
    "    def chasing_rats(self):\n",
    "        return \"What are you doing, Pinky? Taking over the world?!\"\n"
   ]
  },
  {
   "cell_type": "markdown",
   "metadata": {},
   "source": [
    "All we need is the few extra lines at the bottom of the ActiveCode window! The elegance of inheritance allows us to specify just the differences in the new, inherited class. In that extra code, we make sure the Cat class inherits from the Pet class. We do that by putting the word Pet in parentheses, class Cat(Pet):. In the definition of the class Cat, we only need to define the things that are different from the ones in the Pet class.\n",
    "\n",
    "In this case, the only difference is that the class variable sounds starts out with the string \"Meow\" instead of the string \"mrrp\", and there is a new method chasing_rats.\n",
    "\n",
    "We can still use all the Pet methods in the Cat class, this way. You can call the __str__ method on an instance of Cat to print an instance of Cat, the same way you could call it on an instance of Pet, and the same is true for the hi method – it’s the same for instances of Cat and Pet. But the chasing_rats method is special: it’s only usable on Cat instances, because Cat is a subclass of Pet which has that additional method.\n",
    "\n",
    "In the original Tamagotchi game in the last chapter, you saw code that created instances of the Pet class. Now let’s write a little bit of code that uses instances of the Pet class AND instances of the Cat class.\n"
   ]
  },
  {
   "cell_type": "code",
   "execution_count": 3,
   "metadata": {},
   "outputs": [
    {
     "name": "stdout",
     "output_type": "stream",
     "text": [
      "     I'm Fido.  I feel happy. \n",
      "Mrrp\n",
      "     I'm Fido.  I feel happy. \n",
      "     I'm Fluffy.  I feel happy. \n",
      "Meow\n",
      "     I'm Fluffy.  I feel happy. \n",
      "What are you doing, Pinky? Taking over the world?!\n"
     ]
    }
   ],
   "source": [
    "p1 = Pet(\"Fido\")\n",
    "print(p1) # we've seen this stuff before!\n",
    "\n",
    "p1.feed()\n",
    "p1.hi()\n",
    "print(p1)\n",
    "\n",
    "cat1 = Cat(\"Fluffy\")\n",
    "print(cat1) # this uses the same __str__ method as the Pets do\n",
    "\n",
    "cat1.feed() # Totally fine, because the cat class inherits from the Pet class!\n",
    "cat1.hi()\n",
    "print(cat1)\n",
    "\n",
    "print(cat1.chasing_rats())\n",
    "\n",
    "#print(p1.chasing_rats()) # This line will give us an error. The Pet class doesn't have this method!\n"
   ]
  },
  {
   "cell_type": "markdown",
   "metadata": {},
   "source": [
    "\n",
    "\n",
    "And you can continue the inheritance tree. We inherited Cat from Pet. Now say we want a subclass of Cat called Cheshire. A Cheshire cat should inherit everything from Cat, which means it inherits everything that Cat inherits from Pet, too. But the Cheshire class has its own special method, smile."
   ]
  },
  {
   "cell_type": "code",
   "execution_count": 4,
   "metadata": {},
   "outputs": [
    {
     "name": "stdout",
     "output_type": "stream",
     "text": [
      "Meow\n",
      "     I'm Fluffy.  I feel happy. \n",
      "What are you doing, Pinky? Taking over the world?!\n",
      "Meow\n",
      ":D :D :D\n",
      "Mrrp\n"
     ]
    }
   ],
   "source": [
    "class Cheshire(Cat): # this inherits from Cat, which inherits from Pet\n",
    "\n",
    "    def smile(self): # this method is specific to instances of Cheshire\n",
    "        print(\":D :D :D\")\n",
    "\n",
    "# Let's try it with instances.\n",
    "cat1 = Cat(\"Fluffy\")\n",
    "cat1.feed() # Totally fine, because the cat class inherits from the Pet class!\n",
    "cat1.hi() # Uses the special Cat hello.\n",
    "print(cat1)\n",
    "\n",
    "print(cat1.chasing_rats())\n",
    "\n",
    "new_cat = Cheshire(\"Pumpkin\") # create a Cheshire cat instance with name \"Pumpkin\"\n",
    "new_cat.hi() # same as Cat!\n",
    "new_cat.chasing_rats() # OK, because Cheshire inherits from Cat\n",
    "new_cat.smile() # Only for Cheshire instances (and any classes that you make inherit from Cheshire)\n",
    "\n",
    "# cat1.smile() # This line would give you an error, because the Cat class does not have this method!\n",
    "\n",
    "# None of the subclass methods can be used on the parent class, though.\n",
    "p1 = Pet(\"Teddy\")\n",
    "p1.hi() # just the regular Pet hello\n",
    "#p1.chasing_rats() # This will give you an error -- this method doesn't exist on instances of the Pet class.\n",
    "#p1.smile() # This will give you an error, too. This method does not exist on instances of the Pet class.\n"
   ]
  },
  {
   "cell_type": "code",
   "execution_count": null,
   "metadata": {},
   "outputs": [],
   "source": []
  }
 ],
 "metadata": {
  "kernelspec": {
   "display_name": "Python 3",
   "language": "python",
   "name": "python3"
  },
  "language_info": {
   "codemirror_mode": {
    "name": "ipython",
    "version": 3
   },
   "file_extension": ".py",
   "mimetype": "text/x-python",
   "name": "python",
   "nbconvert_exporter": "python",
   "pygments_lexer": "ipython3",
   "version": "3.5.2"
  }
 },
 "nbformat": 4,
 "nbformat_minor": 4
}
