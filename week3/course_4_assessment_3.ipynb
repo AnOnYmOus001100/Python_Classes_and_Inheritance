{
 "cells": [
  {
   "cell_type": "code",
   "execution_count": 4,
   "metadata": {},
   "outputs": [],
   "source": [
    "# test module is only available in runestone environment, outside runestone it won't work\n",
    "import test"
   ]
  },
  {
   "cell_type": "markdown",
   "metadata": {},
   "source": [
    "# Chapter Assessment\n",
    "The function mySum is supposed to return the sum of a list of numbers (and 0 if that list is empty), but it has one or more errors in it. Use this space to write test cases to determine what errors there are. You will be using this information to answer the next set of multiple choice questions.\n"
   ]
  },
  {
   "cell_type": "code",
   "execution_count": null,
   "metadata": {},
   "outputs": [],
   "source": [
    "#correct code for mySum Function\n",
    "#Note: Don't include function in tests\n",
    "def mySum(lst):\n",
    "    if len(lst) > 0:\n",
    "        sum = 0\n",
    "        for n in lst:\n",
    "                sum += n\n",
    "        return sum\n",
    "    else:\n",
    "        return 0\n",
    "        \n",
    "#only write the test cases for tests\n",
    "assert mySum([3]) == 3\n",
    "assert mySum([1,2]) == 3 # assert error\n",
    "assert mySum([1,2,3]) == 6 #assert error\n",
    "assert mySum([1,2,3,4]) == 10 # assert error\n",
    "assert mySum([5,1,2,6,0]) == 14 #assert error\n",
    "assert mySum([]) == 0 #assert error\n",
    "\n",
    "#using test.testEqual from test module\n",
    "#Note: test module only available in runestone\n",
    "test.testEqual(mySum([1]),1) #pass\n",
    "test.testEqual(mySum([1,2]),3) #fail\n",
    "test.testEqual(mySum([1,2,3]),6) #fail\n",
    "test.testEqual(mySum([1,2,3,4]),) #fail\n",
    "test.testEqual(mySum([]),0) #fail\n"
   ]
  },
  {
   "cell_type": "markdown",
   "metadata": {},
   "source": [
    "\n",
    "The class Student is supposed to accept two arguments in its constructor:\n",
    "\n",
    "       1. A name string\n",
    "\n",
    "       2. An optional integer representing the number of years the student has been at Michigan (default:1)\n",
    "\n",
    "Every student has three instance variables:\n",
    "\n",
    "       1. self.name (set to the name provided)\n",
    "\n",
    "       2. self.years_UM (set to the number of years the student has been at Michigan)\n",
    "\n",
    "       3. self.knowledge (initialized to 0)\n",
    "\n",
    "There are three methods:\n",
    "\n",
    "       * .study() should increase self.knowledge by 1 and return None\n",
    "\n",
    "       *  .getKnowledge() should return the value of self.knowledge\n",
    "\n",
    "       *  .year_at_umich() should return the value of self.years_UM\n",
    "\n",
    "There are one or more errors in the class. Use this space to write test cases to determine what errors there are. You will be using this information to answer the next set of multiple choice questions."
   ]
  },
  {
   "cell_type": "code",
   "execution_count": null,
   "metadata": {},
   "outputs": [],
   "source": [
    "#correct code for Student class\n",
    "#Note: Don't include class in tests\n",
    "class Student:\n",
    "    def __init__(self, name, year_UM, knowledge):\n",
    "        self.name = name\n",
    "        self.year_UM = year_UM\n",
    "        self.knowledge = knowledge\n",
    "\n",
    "    def study(self):\n",
    "        self.knowledge += 1\n",
    "        return None\n",
    "\n",
    "    def getKnowledge(self):\n",
    "        return self.knowledge\n",
    "\n",
    "    def year_at_umich(self):\n",
    "        return self.year_UM\n",
    "\n",
    "#only write the tests    \n",
    "s = Student('John')\n",
    "assert s.getKnowledge() == 0 #error\n",
    "s.study()\n",
    "assert s.getKnowledge() == 1 #error\n",
    "s.study()\n",
    "assert s.getKnowledge() == 2 #error\n",
    "assert s.study == None\n",
    "print (s.year_at_umich())\n",
    "assert s.year_at_umich() == 1\n",
    "assert s.year_at_umich() != 0\n",
    "s1 = Student('Boe',2)\n",
    "assert s1.year_at_umich() == 2 #error\n",
    "print (s1.year_at_umich())\n",
    "\n",
    "#testing return tests using test module\n",
    "s = Student('John')\n",
    "\n",
    "s1 = Student('Boe',2)\n",
    "\n",
    "test.testEqual(s.getKnowledge(),0) #fail\n",
    "s.study()\n",
    "test.testEqual(s.getKnowledge(),1) #fail\n",
    "s.study()\n",
    "test.testEqual(s.getKnowledge(),2) #fail\n",
    "test.testEqual(s.year_at_umich(),1)\n",
    "test.testEqual(s.study(),None)\n",
    "test.testEqual(s1.year_at_umich(),2) #fail"
   ]
  },
  {
   "cell_type": "code",
   "execution_count": null,
   "metadata": {},
   "outputs": [],
   "source": []
  }
 ],
 "metadata": {
  "kernelspec": {
   "display_name": "Python 3",
   "language": "python",
   "name": "python3"
  },
  "language_info": {
   "codemirror_mode": {
    "name": "ipython",
    "version": 3
   },
   "file_extension": ".py",
   "mimetype": "text/x-python",
   "name": "python",
   "nbconvert_exporter": "python",
   "pygments_lexer": "ipython3",
   "version": "3.5.2"
  }
 },
 "nbformat": 4,
 "nbformat_minor": 4
}
