{
 "cells": [
  {
   "cell_type": "markdown",
   "metadata": {},
   "source": [
    "# course_4_assessment_4"
   ]
  },
  {
   "cell_type": "markdown",
   "metadata": {},
   "source": [
    "1. The code below takes the list of country, country, and searches to see if it is in the dictionary gold which shows some countries who won gold during the Olympics. However, this code currently does not work. Correctly add try/except clause in the code so that it will correctly populate the list, country_gold, with either the number of golds won or the string “Did not get gold”.\n"
   ]
  },
  {
   "cell_type": "code",
   "execution_count": 2,
   "metadata": {},
   "outputs": [
    {
     "name": "stdout",
     "output_type": "stream",
     "text": [
      "[1, 'Did not get gold', 'Did not get gold', 10, 'Did not get gold', 46]\n"
     ]
    }
   ],
   "source": [
    "\n",
    "gold = {\"US\":46, \"Fiji\":1, \"Great Britain\":27, \"Cuba\":5, \"Thailand\":2, \"China\":26, \"France\":10}\n",
    "country = [\"Fiji\", \"Chile\", \"Mexico\", \"France\", \"Norway\", \"US\"]\n",
    "country_gold = []\n",
    "\n",
    "for x in country:\n",
    "    try:\n",
    "        country_gold.append(gold[x])\n",
    "    except:\n",
    "        country_gold.append(\"Did not get gold\")\n",
    "\n",
    "print (country_gold)"
   ]
  },
  {
   "cell_type": "markdown",
   "metadata": {},
   "source": [
    "2. Provided is a buggy for loop that tries to accumulate some values out of some dictionaries. Insert a try/except so that the code passes."
   ]
  },
  {
   "cell_type": "code",
   "execution_count": 5,
   "metadata": {},
   "outputs": [
    {
     "name": "stdout",
     "output_type": "stream",
     "text": [
      "Key Error\n",
      "Total number of puppies: 130\n"
     ]
    }
   ],
   "source": [
    "di = [{\"Puppies\": 17, 'Kittens': 9, \"Birds\": 23, 'Fish': 90, \"Hamsters\": 49}, {\"Puppies\": 23, \"Birds\": 29, \"Fish\": 20, \"Mice\": 20, \"Snakes\": 7}, {\"Fish\": 203, \"Hamsters\": 93, \"Snakes\": 25, \"Kittens\": 89}, {\"Birds\": 20, \"Puppies\": 90, \"Snakes\": 21, \"Fish\": 10, \"Kittens\": 67}]\n",
    "total = 0\n",
    "for diction in di:\n",
    "    try:\n",
    "        total = total + diction['Puppies']\n",
    "    except:\n",
    "        print (\"Key Error\")\n",
    "\n",
    "print(\"Total number of puppies:\", total)"
   ]
  },
  {
   "cell_type": "markdown",
   "metadata": {},
   "source": [
    "3. The list, numb, contains integers. Write code that populates the list remainder with the remainder of 36 divided by each number in numb. For example, the first element should be 0, because 36/6 has no remainder. If there is an error, have the string “Error” appear in the remainder."
   ]
  },
  {
   "cell_type": "code",
   "execution_count": 4,
   "metadata": {},
   "outputs": [
    {
     "name": "stdout",
     "output_type": "stream",
     "text": [
      "[0, 'Error', 0, 4, 0, 0, 'Error', 0, 36, 'Error', 36, 'Error', 0, 13]\n"
     ]
    }
   ],
   "source": [
    "numb = [6, 0, 36, 8, 2, 36, 0, 12, 60, 0, 45, 0, 3, 23]\n",
    "\n",
    "remainder = []\n",
    "for n in numb:\n",
    "        try:\n",
    "            remainder.append(36%n)\n",
    "        except:\n",
    "            remainder.append(\"Error\")\n",
    "    \n",
    "print (remainder)\n"
   ]
  },
  {
   "cell_type": "markdown",
   "metadata": {},
   "source": [
    "4. Provided is buggy code, insert a try/except so that the code passes."
   ]
  },
  {
   "cell_type": "code",
   "execution_count": 7,
   "metadata": {},
   "outputs": [
    {
     "name": "stdout",
     "output_type": "stream",
     "text": [
      "Error\n",
      "Error\n",
      "[1, 3]\n"
     ]
    }
   ],
   "source": [
    "lst = [2,4,10,42,12,0,4,7,21,4,83,8,5,6,8,234,5,6,523,42,34,0,234,1,435,465,56,7,3,43,23]\n",
    "\n",
    "lst_three = []\n",
    "\n",
    "for num in lst:\n",
    "    try:\n",
    "        if 3 % num == 0:\n",
    "            lst_three.append(num)\n",
    "    except:\n",
    "        print (\"Error\")\n",
    "print (lst_three)"
   ]
  },
  {
   "cell_type": "markdown",
   "metadata": {},
   "source": [
    "5. Write code so that the buggy code provided works using a try/except. When the codes does not work in the try, have it append to the list attempt the string “Error”"
   ]
  },
  {
   "cell_type": "code",
   "execution_count": 8,
   "metadata": {},
   "outputs": [
    {
     "name": "stdout",
     "output_type": "stream",
     "text": [
      "['ab', 'cde', 'fgh', 'i', 'jkml', 'nop', 'qr', 's', 'tv', 'wxy', 'z']\n"
     ]
    }
   ],
   "source": [
    "full_lst = [\"ab\", 'cde', 'fgh', 'i', 'jkml', 'nop', 'qr', 's', 'tv', 'wxy', 'z']\n",
    "\n",
    "attempt = []\n",
    "\n",
    "for elem in full_lst:\n",
    "    try:\n",
    "        attempt.append(elem[1])\n",
    "    except:\n",
    "        attempt.append(\"Error\")\n",
    "print (full_lst)\n"
   ]
  },
  {
   "cell_type": "markdown",
   "metadata": {},
   "source": [
    "6. The following code tries to append the third element of each list in conts to the new list third_countries. Currently, the code does not work. Add a try/except clause so the code runs without errors, and the string ‘Continent does not have 3 countries’ is appended to countries instead of producing an error."
   ]
  },
  {
   "cell_type": "code",
   "execution_count": 9,
   "metadata": {},
   "outputs": [
    {
     "name": "stdout",
     "output_type": "stream",
     "text": [
      "['Greece', 'Canada', 'Korea', 'Brazil', 'Continent does not have 3 countries', 'Kenya', 'Continent does not have 3 countries']\n"
     ]
    }
   ],
   "source": [
    "\n",
    "conts = [['Spain', 'France', 'Greece', 'Portugal', 'Romania', 'Germany'], ['USA', 'Mexico', 'Canada'], ['Japan', 'China', 'Korea', 'Vietnam', 'Cambodia'], ['Argentina', 'Chile', 'Brazil', 'Ecuador', 'Uruguay', 'Venezuela'], ['Australia'], ['Zimbabwe', 'Morocco', 'Kenya', 'Ethiopa', 'South Africa'], ['Antarctica']]\n",
    "\n",
    "third_countries = []\n",
    "\n",
    "for c in conts:\n",
    "    try:\n",
    "        third_countries.append(c[2])\n",
    "    except:\n",
    "        third_countries.append(\"Continent does not have 3 countries\")\n",
    "\n",
    "print (third_countries)\n"
   ]
  },
  {
   "cell_type": "markdown",
   "metadata": {},
   "source": [
    "7. The buggy code below prints out the value of the sport in the list sport. Use try/except so that the code will run properly. If the sport is not in the dictionary, ppl_play, add it in with the value of 1."
   ]
  },
  {
   "cell_type": "code",
   "execution_count": 10,
   "metadata": {},
   "outputs": [
    {
     "name": "stdout",
     "output_type": "stream",
     "text": [
      "4\n",
      "10\n",
      "8\n",
      "15\n",
      "{'baseball': 1, 'football': 15, 'tennis': 8, 'soccer': 10, 'hockey': 4, 'basketball': 1}\n"
     ]
    }
   ],
   "source": [
    "\n",
    "sport = [\"hockey\", \"basketball\", \"soccer\", \"tennis\", \"football\", \"baseball\"]\n",
    "\n",
    "ppl_play = {\"hockey\":4, \"soccer\": 10, \"football\": 15, \"tennis\": 8}\n",
    "\n",
    "for x in sport:\n",
    "    try:\n",
    "         print(ppl_play[x])\n",
    "    except:\n",
    "        ppl_play[x] = 1\n",
    "print (ppl_play)\n"
   ]
  },
  {
   "cell_type": "markdown",
   "metadata": {},
   "source": [
    "8. Provided is a buggy for loop that tries to accumulate some values out of some dictionaries. Insert a try/except so that the code passes. If the key is not there, initialize it in the dictionary and set the value to zero."
   ]
  },
  {
   "cell_type": "code",
   "execution_count": 11,
   "metadata": {},
   "outputs": [
    {
     "name": "stdout",
     "output_type": "stream",
     "text": [
      "Total number of puppies: 130\n"
     ]
    }
   ],
   "source": [
    "\n",
    "di = [{\"Puppies\": 17, 'Kittens': 9, \"Birds\": 23, 'Fish': 90, \"Hamsters\": 49}, {\"Puppies\": 23, \"Birds\": 29, \"Fish\": 20, \"Mice\": 20, \"Snakes\": 7}, {\"Fish\": 203, \"Hamsters\": 93, \"Snakes\": 25, \"Kittens\": 89}, {\"Birds\": 20, \"Puppies\": 90, \"Snakes\": 21, \"Fish\": 10, \"Kittens\": 67}]\n",
    "total = 0\n",
    "for diction in di:\n",
    "    try:\n",
    "        total = total + diction['Puppies']\n",
    "    except:\n",
    "        diction['Puppies'] = 0\n",
    "\n",
    "print(\"Total number of puppies:\", total)\n",
    "\n",
    "\n"
   ]
  },
  {
   "cell_type": "code",
   "execution_count": null,
   "metadata": {},
   "outputs": [],
   "source": []
  }
 ],
 "metadata": {
  "kernelspec": {
   "display_name": "Python 3",
   "language": "python",
   "name": "python3"
  },
  "language_info": {
   "codemirror_mode": {
    "name": "ipython",
    "version": 3
   },
   "file_extension": ".py",
   "mimetype": "text/x-python",
   "name": "python",
   "nbconvert_exporter": "python",
   "pygments_lexer": "ipython3",
   "version": "3.5.2"
  }
 },
 "nbformat": 4,
 "nbformat_minor": 4
}
