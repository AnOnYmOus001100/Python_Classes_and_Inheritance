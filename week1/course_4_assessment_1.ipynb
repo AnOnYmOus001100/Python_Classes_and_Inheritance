{
 "cells": [
  {
   "cell_type": "code",
   "execution_count": 1,
   "metadata": {},
   "outputs": [
    {
     "name": "stdout",
     "output_type": "stream",
     "text": [
      "<__main__.Bike object at 0x7f0dec527470>\n",
      "<__main__.Bike object at 0x7f0df6b58cf8>\n"
     ]
    }
   ],
   "source": [
    "\"\"\"\n",
    "1. Define a class called Bike that accepts a string and a float as input, and assigns those inputs respectively\n",
    "to two instance variables, color and price. Assign to the variable testOne an instance of Bike whose color is \n",
    "blue and whose price is 89.99. Assign to the variable testTwo an instance of Bike whose color is purple and \n",
    "whose price is 25.0.\n",
    "\"\"\"\n",
    "class Bike:\n",
    "    def __init__(self,st,fl):\n",
    "        self.color = st\n",
    "        self.price = fl\n",
    "testOne = Bike(\"blue\",89.99)\n",
    "testTwo = Bike(\"purple\",25.0)\n",
    "print (testOne)\n",
    "print (testTwo)\n",
    "\n"
   ]
  },
  {
   "cell_type": "code",
   "execution_count": 2,
   "metadata": {},
   "outputs": [
    {
     "name": "stdout",
     "output_type": "stream",
     "text": [
      "A basket of 4 red apples.\n"
     ]
    }
   ],
   "source": [
    "\"\"\"\n",
    "2. Create a class called AppleBasket whose constructor accepts two inputs: a string representing a color, \n",
    "and a number representing a quantity of apples. The constructor should initialize two instance variables: \n",
    "apple_color and apple_quantity. Write a class method called increase that increases the quantity by 1 each \n",
    "time it is invoked. You should also write a __str__ method for this class that returns a string of the format:\n",
    "\"A basket of [quantity goes here] [color goes here] apples.\" e.g. \"A basket of 4 red apples.\" or \"A basket of \n",
    "50 blue apples.\" (Writing some test code that creates instances and assigns values to variables may help you \n",
    "solve this problem!)\n",
    "\"\"\"\n",
    "class AppleBasket:\n",
    "    def __init__(self,c,q):\n",
    "        self.apple_color = c\n",
    "        self.apple_quantity = q\n",
    "\n",
    "    def increase(self):\n",
    "        self.apple_quantity += 1\n",
    "    \n",
    "    def __str__(self):\n",
    "        return \"A basket of {} {} apples.\".format(self.apple_quantity,self.apple_color)\n",
    "a = AppleBasket(\"red\",4)\n",
    "print (a)"
   ]
  },
  {
   "cell_type": "code",
   "execution_count": 4,
   "metadata": {},
   "outputs": [
    {
     "name": "stdout",
     "output_type": "stream",
     "text": [
      "Your account, Bob, has 100 dollars.\n"
     ]
    }
   ],
   "source": [
    "\"\"\"\n",
    "3. Define a class called BankAccount that accepts the name you want associated with your bank account in a \n",
    "string, and an integer that represents the amount of money in the account. The constructor should initialize \n",
    "two instance variables from those inputs: name and amt. Add a string method so that when you print an instance\n",
    "of BankAccount, you see \"Your account, [name goes here], has [start_amt goes here] dollars.\" \n",
    "Create an instance of this class with \"Bob\" as the name and 100 as the amount. Save this to the variable t1.\n",
    "\"\"\"\n",
    "class BankAccount:\n",
    "    def __init__(self,name,amt):\n",
    "        self.name = name\n",
    "        self.amt = amt\n",
    "    \n",
    "    def __str__(self):\n",
    "        return \"Your account, {}, has {} dollars.\".format(self.name,self.amt)\n",
    "t1 = BankAccount(\"Bob\",100)\n",
    "print (t1)"
   ]
  },
  {
   "cell_type": "code",
   "execution_count": null,
   "metadata": {},
   "outputs": [],
   "source": []
  }
 ],
 "metadata": {
  "kernelspec": {
   "display_name": "Python 3",
   "language": "python",
   "name": "python3"
  },
  "language_info": {
   "codemirror_mode": {
    "name": "ipython",
    "version": 3
   },
   "file_extension": ".py",
   "mimetype": "text/x-python",
   "name": "python",
   "nbconvert_exporter": "python",
   "pygments_lexer": "ipython3",
   "version": "3.5.2"
  }
 },
 "nbformat": 4,
 "nbformat_minor": 4
}
